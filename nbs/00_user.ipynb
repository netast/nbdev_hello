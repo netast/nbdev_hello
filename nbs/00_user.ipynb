{
 "cells": [
  {
   "cell_type": "code",
   "execution_count": null,
   "metadata": {},
   "outputs": [],
   "source": [
    "#| hide\n",
    "from nbdev.showdoc import *\n",
    "from fastcore.test import *\n",
    "from fastcore.utils import *"
   ]
  },
  {
   "cell_type": "code",
   "execution_count": null,
   "metadata": {},
   "outputs": [],
   "source": [
    "#| hide\n",
    "import nbdev; nbdev.nbdev_export()"
   ]
  },
  {
   "cell_type": "markdown",
   "metadata": {},
   "source": [
    "# user\n",
    "\n",
    "> Simple user class"
   ]
  },
  {
   "cell_type": "code",
   "execution_count": null,
   "metadata": {},
   "outputs": [],
   "source": [
    "#| default_exp user"
   ]
  },
  {
   "cell_type": "code",
   "execution_count": null,
   "metadata": {},
   "outputs": [],
   "source": [
    "#| export\n",
    "class User():\n",
    "    '''Simple user account class `User`'''\n",
    "    def __init__(self, \n",
    "                 first_name: str, # first name of user\n",
    "                 last_name: str): # last name of user\n",
    "        self.first_name = first_name\n",
    "        self.last_name = last_name\n",
    "    def __str__(self):\n",
    "        return f\"{self.first_name} {self.last_name}\"\n",
    "    __repr__ = __str__\n",
    "    def __eq__(self, user : 'User'): \n",
    "        return (user.first_name, user.last_name) == (self.first_name, self.last_name)\n",
    "    def __lt__(self: 'User', user : 'User'):\n",
    "        return self.last_name < user.last_name\n",
    "    def __gt__(self: 'User', user : 'User'):\n",
    "        return self.last_name > user.last_name"
   ]
  },
  {
   "cell_type": "code",
   "execution_count": null,
   "metadata": {},
   "outputs": [],
   "source": [
    "user = User('Yuriy', 'Panov')"
   ]
  },
  {
   "cell_type": "code",
   "execution_count": null,
   "metadata": {},
   "outputs": [],
   "source": [
    "test_eq(user, User('Yuriy', 'Panov'))"
   ]
  },
  {
   "cell_type": "code",
   "execution_count": null,
   "metadata": {},
   "outputs": [
    {
     "data": {
      "text/markdown": [
       "---\n",
       "\n",
       "[source](https://github.com/netast/nbdev_hello/blob/main/nbdev_hello/user.py#L7){target=\"_blank\" style=\"float:right; font-size:smaller\"}\n",
       "\n",
       "### User\n",
       "\n",
       ">      User (first_name:str, last_name:str)\n",
       "\n",
       "Simple user account class `User`\n",
       "\n",
       "|    | **Type** | **Details** |\n",
       "| -- | -------- | ----------- |\n",
       "| first_name | str | first name of user |\n",
       "| last_name | str | last name of user |"
      ],
      "text/plain": [
       "---\n",
       "\n",
       "[source](https://github.com/netast/nbdev_hello/blob/main/nbdev_hello/user.py#L7){target=\"_blank\" style=\"float:right; font-size:smaller\"}\n",
       "\n",
       "### User\n",
       "\n",
       ">      User (first_name:str, last_name:str)\n",
       "\n",
       "Simple user account class `User`\n",
       "\n",
       "|    | **Type** | **Details** |\n",
       "| -- | -------- | ----------- |\n",
       "| first_name | str | first name of user |\n",
       "| last_name | str | last name of user |"
      ]
     },
     "execution_count": null,
     "metadata": {},
     "output_type": "execute_result"
    }
   ],
   "source": [
    "#! hide\n",
    "show_doc(User)"
   ]
  },
  {
   "cell_type": "code",
   "execution_count": null,
   "metadata": {},
   "outputs": [],
   "source": [
    "assert not test_eq(User('Yuriy', 'Panov'), User('Yuriy', 'Panov'))"
   ]
  }
 ],
 "metadata": {
  "kernelspec": {
   "display_name": "python3",
   "language": "python",
   "name": "python3"
  }
 },
 "nbformat": 4,
 "nbformat_minor": 4
}
