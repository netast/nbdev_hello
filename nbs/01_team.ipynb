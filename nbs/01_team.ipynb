{
 "cells": [
  {
   "cell_type": "code",
   "execution_count": null,
   "metadata": {},
   "outputs": [],
   "source": [
    "#| hide\n",
    "from nbdev.showdoc import *\n",
    "from fastcore.test import *\n",
    "from fastcore.utils import *"
   ]
  },
  {
   "cell_type": "code",
   "execution_count": null,
   "metadata": {},
   "outputs": [],
   "source": [
    "#| hide\n",
    "import nbdev; nbdev.nbdev_export()"
   ]
  },
  {
   "cell_type": "code",
   "execution_count": null,
   "metadata": {},
   "outputs": [],
   "source": [
    "#| export\n",
    "from nbdev_hello.user import *"
   ]
  },
  {
   "cell_type": "markdown",
   "metadata": {},
   "source": [
    "# Team\n",
    "\n",
    "> Team class to manage group of users"
   ]
  },
  {
   "cell_type": "code",
   "execution_count": null,
   "metadata": {},
   "outputs": [],
   "source": [
    "#| default_exp team"
   ]
  },
  {
   "cell_type": "code",
   "execution_count": null,
   "metadata": {},
   "outputs": [],
   "source": [
    "# | export\n",
    "\n",
    "\n",
    "from typing import Iterator\n",
    "\n",
    "\n",
    "class Team:\n",
    "    def __init__(self, \n",
    "                 members: list[User] = []) -> None: # Members\n",
    "        self.members = members\n",
    "    def __str__(self) -> str:\n",
    "        return \"\".join([f\"{member}, \" for member in self.members])\n",
    "    __repr__ = __str__\n",
    "    def __len__(self) -> int:\n",
    "        return len(self.members)\n",
    "    def __contains__(self, member: User) -> bool:\n",
    "        return member in self.members\n",
    "    def __iter__(self) -> Iterator[User]:\n",
    "        return iter(self.members)\n",
    "    def __getitem__(self, index: int) -> User:\n",
    "        return self.members[index]\n",
    "    def add(self, member: User) -> None:\n",
    "        self.members.append(member)\n",
    "    def remove(self, member: User) -> None:\n",
    "        self.members.remove(member)\n",
    "    \n",
    "                                                "
   ]
  },
  {
   "cell_type": "code",
   "execution_count": null,
   "metadata": {},
   "outputs": [],
   "source": [
    "team = Team(members=[User(first_name='Jorn', last_name='Doe'), User(first_name='Yuriy', last_name='Panov')])"
   ]
  },
  {
   "cell_type": "code",
   "execution_count": null,
   "metadata": {},
   "outputs": [
    {
     "data": {
      "text/plain": [
       "Jorn Doe, Yuriy Panov, "
      ]
     },
     "execution_count": null,
     "metadata": {},
     "output_type": "execute_result"
    }
   ],
   "source": [
    "team\n"
   ]
  },
  {
   "cell_type": "code",
   "execution_count": null,
   "metadata": {},
   "outputs": [],
   "source": [
    "#| hide\n",
    "test_eq(len(team), 2)"
   ]
  },
  {
   "cell_type": "code",
   "execution_count": null,
   "metadata": {},
   "outputs": [
    {
     "data": {
      "text/plain": [
       "False"
      ]
     },
     "execution_count": null,
     "metadata": {},
     "output_type": "execute_result"
    }
   ],
   "source": [
    "User(first_name='Jorrn', last_name='Doe') in team"
   ]
  },
  {
   "cell_type": "code",
   "execution_count": null,
   "metadata": {},
   "outputs": [],
   "source": [
    "team.add(User('Semen','Polorotov'))\n",
    "team.add(User('Igor','Sorokin'))\n"
   ]
  },
  {
   "cell_type": "code",
   "execution_count": null,
   "metadata": {},
   "outputs": [
    {
     "data": {
      "text/plain": [
       "Jorn Doe, Yuriy Panov, Semen Polorotov, Igor Sorokin, "
      ]
     },
     "execution_count": null,
     "metadata": {},
     "output_type": "execute_result"
    }
   ],
   "source": [
    "team"
   ]
  },
  {
   "cell_type": "code",
   "execution_count": null,
   "metadata": {},
   "outputs": [
    {
     "data": {
      "text/plain": [
       "[Jorn Doe, Yuriy Panov, Semen Polorotov, Igor Sorokin]"
      ]
     },
     "execution_count": null,
     "metadata": {},
     "output_type": "execute_result"
    }
   ],
   "source": [
    "sorted(team)\n"
   ]
  }
 ],
 "metadata": {
  "kernelspec": {
   "display_name": "python3",
   "language": "python",
   "name": "python3"
  }
 },
 "nbformat": 4,
 "nbformat_minor": 4
}
